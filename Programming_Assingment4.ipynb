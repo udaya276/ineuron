{
 "cells": [
  {
   "cell_type": "markdown",
   "metadata": {},
   "source": [
    "1.\tWrite a Python Program to Find the Factorial of a Number?"
   ]
  },
  {
   "cell_type": "code",
   "execution_count": 11,
   "metadata": {},
   "outputs": [
    {
     "name": "stdout",
     "output_type": "stream",
     "text": [
      "Enter a number to get factorial: 5\n",
      "Factorial of 5 is 120\n"
     ]
    }
   ],
   "source": [
    "num=int(input(\"Enter a number to get factorial: \"))\n",
    "f=1\n",
    "for i in range(1,num+1):\n",
    "  f=f*i\n",
    "print(\"Factorial of {0} is {1}\".format(num,f))"
   ]
  },
  {
   "cell_type": "markdown",
   "metadata": {},
   "source": [
    "2.\tWrite a Python Program to Display the multiplication Table?"
   ]
  },
  {
   "cell_type": "code",
   "execution_count": 13,
   "metadata": {},
   "outputs": [
    {
     "name": "stdout",
     "output_type": "stream",
     "text": [
      "Enter a number to get its multiplication table: 10\n",
      "10 * 1 = 10\n",
      "10 * 2 = 20\n",
      "10 * 3 = 30\n",
      "10 * 4 = 40\n",
      "10 * 5 = 50\n",
      "10 * 6 = 60\n",
      "10 * 7 = 70\n",
      "10 * 8 = 80\n",
      "10 * 9 = 90\n",
      "10 * 10 = 100\n"
     ]
    }
   ],
   "source": [
    "num1=int(input(\"Enter a number to get its multiplication table: \"))\n",
    "for i in range(1,11):\n",
    "  #print(\"{0} * {1} = {2}\".format(num1,i,num1*i))\n",
    "  print(num1,\"*\",i,\"=\",num1*i)"
   ]
  },
  {
   "cell_type": "markdown",
   "metadata": {},
   "source": [
    "3.\tWrite a Python Program to Print the Fibonacci sequence?"
   ]
  },
  {
   "cell_type": "code",
   "execution_count": 14,
   "metadata": {
    "scrolled": true
   },
   "outputs": [
    {
     "name": "stdout",
     "output_type": "stream",
     "text": [
      "Enter number of terms for fibbonaci series: 5\n",
      "[1, 1, 2, 3, 5]\n"
     ]
    }
   ],
   "source": [
    "ter=int(input(\"Enter number of terms for fibbonaci series: \"))\n",
    "fib=[1]\n",
    "count=1\n",
    "n1=0\n",
    "n2=1\n",
    "while count<ter:\n",
    "    n3=n1+n2\n",
    "    fib.append(n3)\n",
    "    n1=n2\n",
    "    n2=n3\n",
    "    count=count+1\n",
    "print(fib)"
   ]
  },
  {
   "cell_type": "markdown",
   "metadata": {},
   "source": [
    "4.\tWrite a Python Program to Check Armstrong Number?"
   ]
  },
  {
   "cell_type": "code",
   "execution_count": 15,
   "metadata": {},
   "outputs": [
    {
     "name": "stdout",
     "output_type": "stream",
     "text": [
      "Enter a number: 1153\n",
      "it is not an armstrong number\n"
     ]
    }
   ],
   "source": [
    "num2=int(input(\"Enter a number: \"))\n",
    "order=len(str(num2))\n",
    "sum=0\n",
    "temp=num2\n",
    "while temp>0:\n",
    "    digit=temp%10\n",
    "    sum=sum+digit**order\n",
    "    temp=temp//10\n",
    "\n",
    "if num2==sum:\n",
    "    print(\"it is an armstrong number\")\n",
    "else:\n",
    "    print(\"it is not an armstrong number\")"
   ]
  },
  {
   "cell_type": "markdown",
   "metadata": {},
   "source": [
    "5.\tWrite a Python Program to Find Armstrong Number in an Interval?"
   ]
  },
  {
   "cell_type": "code",
   "execution_count": 16,
   "metadata": {},
   "outputs": [
    {
     "name": "stdout",
     "output_type": "stream",
     "text": [
      "enter a lower number: 100\n",
      "enter a higher number: 2000\n",
      "[153, 370, 371, 407, 1634]\n"
     ]
    }
   ],
   "source": [
    "lower=int(input(\"enter a lower number: \"))\n",
    "higher=int(input(\"enter a higher number: \"))\n",
    "numlist=[]\n",
    "for num3 in range(lower,higher+1):\n",
    "    order=len(str(num3))\n",
    "    sum=0\n",
    "    temp=num3\n",
    "    while temp>0:\n",
    "        digit=temp%10\n",
    "        sum=sum+digit**order\n",
    "        temp=temp//10\n",
    "\n",
    "    if num3==sum:\n",
    "        numlist.append(num3)\n",
    "print(numlist)     "
   ]
  },
  {
   "cell_type": "markdown",
   "metadata": {},
   "source": [
    "6.\tWrite a Python Program to Find the Sum of Natural Numbers?"
   ]
  },
  {
   "cell_type": "code",
   "execution_count": 10,
   "metadata": {},
   "outputs": [
    {
     "name": "stdout",
     "output_type": "stream",
     "text": [
      "Enter a natural number5\n",
      "sum of all number till entered number is:  15\n"
     ]
    }
   ],
   "source": [
    "num4=int(input(\"Enter a natural number\"))\n",
    "print(\"sum of all number till entered number is: \",int(num4*(num4+1)*.5))"
   ]
  },
  {
   "cell_type": "code",
   "execution_count": null,
   "metadata": {},
   "outputs": [],
   "source": []
  }
 ],
 "metadata": {
  "kernelspec": {
   "display_name": "Python 3",
   "language": "python",
   "name": "python3"
  },
  "language_info": {
   "codemirror_mode": {
    "name": "ipython",
    "version": 3
   },
   "file_extension": ".py",
   "mimetype": "text/x-python",
   "name": "python",
   "nbconvert_exporter": "python",
   "pygments_lexer": "ipython3",
   "version": "3.8.5"
  }
 },
 "nbformat": 4,
 "nbformat_minor": 4
}
