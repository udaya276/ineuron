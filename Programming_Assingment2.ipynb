{
 "cells": [
  {
   "cell_type": "markdown",
   "metadata": {},
   "source": [
    "Write a Python program to convert kilometers to miles?"
   ]
  },
  {
   "cell_type": "code",
   "execution_count": 1,
   "metadata": {},
   "outputs": [
    {
     "name": "stdout",
     "output_type": "stream",
     "text": [
      "enter a kilometer value:2\n",
      "value afterconversion to miles is: 1.24\n"
     ]
    }
   ],
   "source": [
    "k=float(input(\"enter a kilometer value:\"))\n",
    "m=.62*k\n",
    "print(\"value afterconversion to miles is:\",m)"
   ]
  },
  {
   "cell_type": "markdown",
   "metadata": {},
   "source": [
    "Write a Python program to convert Celsius to Fahrenheit?"
   ]
  },
  {
   "cell_type": "code",
   "execution_count": 2,
   "metadata": {},
   "outputs": [
    {
     "name": "stdout",
     "output_type": "stream",
     "text": [
      "enter temp in celcius value:5\n",
      "value afterconversion to farenhit is: 35.6\n"
     ]
    }
   ],
   "source": [
    "c=float(input(\"enter temp in celcius value:\"))\n",
    "f=(k*9/5)+32\n",
    "print(\"value afterconversion to farenhit is:\",f)"
   ]
  },
  {
   "cell_type": "markdown",
   "metadata": {},
   "source": [
    "Write a Python program to display calendar?"
   ]
  },
  {
   "cell_type": "code",
   "execution_count": 9,
   "metadata": {},
   "outputs": [
    {
     "name": "stdout",
     "output_type": "stream",
     "text": [
      "enter year:2021\n",
      "enter month:11\n",
      "   November 2021\n",
      "Mo Tu We Th Fr Sa Su\n",
      " 1  2  3  4  5  6  7\n",
      " 8  9 10 11 12 13 14\n",
      "15 16 17 18 19 20 21\n",
      "22 23 24 25 26 27 28\n",
      "29 30\n",
      "\n"
     ]
    }
   ],
   "source": [
    "import calendar\n",
    "yy=int(input('enter year:'))\n",
    "mm=int(input('enter month:'))\n",
    "print(calendar.month(yy, mm))"
   ]
  },
  {
   "cell_type": "markdown",
   "metadata": {},
   "source": [
    "Write a Python program to solve quadratic equation?"
   ]
  },
  {
   "cell_type": "code",
   "execution_count": 14,
   "metadata": {},
   "outputs": [
    {
     "name": "stdout",
     "output_type": "stream",
     "text": [
      "enter value of a, b and c in quadratic equation 'ax2+bx+c'\n",
      "enter value of a:4\n",
      "enter value of b:5\n",
      "enter value of c:6\n",
      "Solution to the quadratic equation are: (-10+16.852299546352718j) and (-10-16.852299546352718j)\n"
     ]
    }
   ],
   "source": [
    "print(\"enter value of a, b and c in quadratic equation 'ax2+bx+c'\")\n",
    "a=float(input(\"enter value of a:\"))\n",
    "b=float(input(\"enter value of b:\"))\n",
    "c=float(input(\"enter value of c:\"))\n",
    "\n",
    "import cmath\n",
    "d=(b**2)-(4*a*c)\n",
    "\n",
    "s1=(-b+cmath.sqrt(d))/2*a\n",
    "s2=(-b-cmath.sqrt(d))/2*a\n",
    "print(\"Solution to the quadratic equation are: {0} and {1}\".format(s1,s2))\n"
   ]
  },
  {
   "cell_type": "markdown",
   "metadata": {},
   "source": [
    "Write a Python program to swap two variables without temp variable?"
   ]
  },
  {
   "cell_type": "code",
   "execution_count": 15,
   "metadata": {},
   "outputs": [
    {
     "name": "stdout",
     "output_type": "stream",
     "text": [
      "enter value of a:4\n",
      "enter value of b:5\n",
      "value of a after swapping: 5\n",
      "value of b after swapping: 4\n"
     ]
    }
   ],
   "source": [
    "a=input(\"enter value of a:\")\n",
    "b=input(\"enter value of b:\")\n",
    "a,b=b,a\n",
    "print(\"value of a after swapping:\",a)\n",
    "print(\"value of b after swapping:\",b)"
   ]
  }
 ],
 "metadata": {
  "kernelspec": {
   "display_name": "Python 3",
   "language": "python",
   "name": "python3"
  },
  "language_info": {
   "codemirror_mode": {
    "name": "ipython",
    "version": 3
   },
   "file_extension": ".py",
   "mimetype": "text/x-python",
   "name": "python",
   "nbconvert_exporter": "python",
   "pygments_lexer": "ipython3",
   "version": "3.8.5"
  }
 },
 "nbformat": 4,
 "nbformat_minor": 4
}
