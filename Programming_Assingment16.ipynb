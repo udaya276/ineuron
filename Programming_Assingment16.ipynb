{
 "cells": [
  {
   "cell_type": "markdown",
   "id": "8dcdb5c4",
   "metadata": {},
   "source": [
    "Question1. Write a function that stutters a word as if someone is struggling to read it. The first two letters are repeated twice with an ellipsis ... and space after each, and then the word is pronounced with a question mark ?."
   ]
  },
  {
   "cell_type": "code",
   "execution_count": 5,
   "id": "537665bb",
   "metadata": {},
   "outputs": [
    {
     "name": "stdout",
     "output_type": "stream",
     "text": [
      "Enter a word: stutter\n",
      "\"st... st... stutter?\"\n"
     ]
    }
   ],
   "source": [
    "def stutter(word):\n",
    "    word = 'stutter'\n",
    "    word1 = word[0:2]\n",
    "    print('\"'+word1+'... '+word1+'... '+word+'?'+'\"')\n",
    "word = input(\"Enter a word: \")\n",
    "stutter(word)"
   ]
  },
  {
   "cell_type": "markdown",
   "id": "7d83711c",
   "metadata": {},
   "source": [
    "Question 2.Create a function that takes an angle in radians and returns the corresponding angle in degrees rounded to one decimal place."
   ]
  },
  {
   "cell_type": "code",
   "execution_count": 11,
   "id": "0ca96fbb",
   "metadata": {},
   "outputs": [
    {
     "name": "stdout",
     "output_type": "stream",
     "text": [
      "Enter a degree: 20\n",
      "1145.9\n"
     ]
    }
   ],
   "source": [
    "import math\n",
    "def radians_to_degree(rad):\n",
    "    deg = (rad*180)/math.pi\n",
    "    print(round(deg,1))\n",
    "deg = float(input(\"Enter a degree: \"))\n",
    "radians_to_degree(deg)    "
   ]
  },
  {
   "cell_type": "markdown",
   "id": "51b2b8be",
   "metadata": {},
   "source": [
    "Question 3 In this challenge, establish if a given integer num is a Curzon number. If 1 plus 2 elevated to num is exactly divisible by 1 plus 2 multiplied by num, then num is a Curzon number."
   ]
  },
  {
   "cell_type": "code",
   "execution_count": 19,
   "id": "5b8269b7",
   "metadata": {},
   "outputs": [
    {
     "name": "stdout",
     "output_type": "stream",
     "text": [
      "Enter a number: 14\n"
     ]
    },
    {
     "data": {
      "text/plain": [
       "True"
      ]
     },
     "execution_count": 19,
     "metadata": {},
     "output_type": "execute_result"
    }
   ],
   "source": [
    "def check_curzon_num(num):\n",
    "    num1 = 1 + 2**num\n",
    "    num2 = 1 + 2*num\n",
    "    if num1%num2 ==0:\n",
    "        return True\n",
    "    else:\n",
    "        return False\n",
    "num = int(input(\"Enter a number: \"))\n",
    "check_curzon_num(num)"
   ]
  },
  {
   "cell_type": "markdown",
   "id": "6fd7994b",
   "metadata": {},
   "source": [
    "Question 4.Given the side length x find the area of a hexagon."
   ]
  },
  {
   "cell_type": "code",
   "execution_count": 21,
   "id": "59de58ba",
   "metadata": {},
   "outputs": [
    {
     "name": "stdout",
     "output_type": "stream",
     "text": [
      "Enter the sides of hexagon :1\n",
      "Area of hexagon is:  2.6 sq. unit\n"
     ]
    }
   ],
   "source": [
    "import math\n",
    "s = float(input(\"Enter the sides of hexagon :\"))\n",
    "a = (3*math.sqrt(3)*s*s)/2\n",
    "print(\"Area of hexagon is: \",round(a,1),\"sq. unit\")"
   ]
  },
  {
   "cell_type": "markdown",
   "id": "30bfbc8e",
   "metadata": {},
   "source": [
    "Question 5. Create a function that returns a base-2 (binary) representation of a base-10 (decimal) string number. To convert is simple: ((2) means base-2 and (10) means base-10) 010101001(2) = 1 + 8 + 32 + 128.\n",
    "Going from right to left, the value of the most right bit is 1, now from that every bit to the left will be x2 the value, value of an 8 bit binary numbers are (256, 128, 64, 32, 16, 8, 4, 2, 1)."
   ]
  },
  {
   "cell_type": "code",
   "execution_count": 61,
   "id": "685712d2",
   "metadata": {},
   "outputs": [
    {
     "name": "stdout",
     "output_type": "stream",
     "text": [
      "10011"
     ]
    }
   ],
   "source": [
    "def DecimalToBinary(num):\n",
    "     \n",
    "    if num >= 1:\n",
    "        DecimalToBinary(num // 2)\n",
    "        print(num % 2, end='')\n",
    "\n",
    "DecimalToBinary(19)"
   ]
  },
  {
   "cell_type": "code",
   "execution_count": null,
   "id": "d4bfddfd",
   "metadata": {},
   "outputs": [],
   "source": []
  }
 ],
 "metadata": {
  "kernelspec": {
   "display_name": "Python 3 (ipykernel)",
   "language": "python",
   "name": "python3"
  },
  "language_info": {
   "codemirror_mode": {
    "name": "ipython",
    "version": 3
   },
   "file_extension": ".py",
   "mimetype": "text/x-python",
   "name": "python",
   "nbconvert_exporter": "python",
   "pygments_lexer": "ipython3",
   "version": "3.9.7"
  }
 },
 "nbformat": 4,
 "nbformat_minor": 5
}
