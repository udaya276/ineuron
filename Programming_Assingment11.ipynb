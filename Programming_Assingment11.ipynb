{
 "cells": [
  {
   "cell_type": "markdown",
   "metadata": {},
   "source": [
    "1.\tWrite a Python program to find words which are greater than given length k?"
   ]
  },
  {
   "cell_type": "code",
   "execution_count": 29,
   "metadata": {},
   "outputs": [
    {
     "name": "stdout",
     "output_type": "stream",
     "text": [
      "Enter a sentence:hell dolli hj kll\n",
      "Enter min word length3\n",
      "In the entered sentence:- hell dolli hj kll, the following ['hell', 'dolli'] word are more than 3 characters\n"
     ]
    }
   ],
   "source": [
    "def wordlen(string, k):\n",
    "    words=[]\n",
    "    text=string.split(\" \")\n",
    "    for i in text:\n",
    "        if len(i)>k:\n",
    "            words.append(i)\n",
    "    return words\n",
    "sent=input(\"Enter a sentence:\")\n",
    "le=int(input(\"Enter min word length\"))\n",
    "print(\"In the entered sentence:- {0}, the following {1} word are more than {2} characters\".format(sent, wordlen(sent,le), le))"
   ]
  },
  {
   "cell_type": "markdown",
   "metadata": {},
   "source": [
    "2.\tWrite a Python program for removing i-th character from a string?"
   ]
  },
  {
   "cell_type": "code",
   "execution_count": 39,
   "metadata": {},
   "outputs": [
    {
     "name": "stdout",
     "output_type": "stream",
     "text": [
      "enter a stringhello brother\n",
      "enter the index position of string 2\n",
      "New string after replacing i'th position is:  helo brother\n"
     ]
    }
   ],
   "source": [
    "string=input(\"enter a string\")\n",
    "i=int(input(\"enter the index position of string \"))\n",
    "print(\"New string after replacing i'th position is: \",string.replace(string[i],\"\",1))"
   ]
  },
  {
   "cell_type": "markdown",
   "metadata": {},
   "source": [
    "3.\tWrite a Python program to split and join a string?"
   ]
  },
  {
   "cell_type": "code",
   "execution_count": 49,
   "metadata": {},
   "outputs": [
    {
     "name": "stdout",
     "output_type": "stream",
     "text": [
      "enter a string: hello brother\n",
      "After splitting the string on letter e is:  ['h', 'llo broth', 'r']\n",
      "after joing again the string is hello brother\n"
     ]
    }
   ],
   "source": [
    "string=input(\"enter a string: \")\n",
    "spl=string.split(sep=\"e\")\n",
    "print(\"After splitting the string on letter e is: \",spl)\n",
    "print(\"after joing again the string is\",\"\".join(string))"
   ]
  },
  {
   "cell_type": "markdown",
   "metadata": {},
   "source": [
    "4.\tWrite a Python to check if a given string is binary string or not?"
   ]
  },
  {
   "cell_type": "code",
   "execution_count": 53,
   "metadata": {},
   "outputs": [
    {
     "name": "stdout",
     "output_type": "stream",
     "text": [
      "Enter a string: 0011001100\n",
      "It is a binary string\n"
     ]
    }
   ],
   "source": [
    "def biornot(str):\n",
    "    se=set(str)\n",
    "    bi={'0','1'}\n",
    "    if se==bi or se=={'0'} or se=={'1'}:\n",
    "        print(\"It is a binary string\")\n",
    "    else:\n",
    "        print(\"It is not a binary string\")\n",
    "        \n",
    "string=input(\"Enter a string: \")\n",
    "biornot(string)"
   ]
  },
  {
   "cell_type": "markdown",
   "metadata": {},
   "source": [
    "5.\tWrite a Python program to find uncommon words from two Strings?"
   ]
  },
  {
   "cell_type": "code",
   "execution_count": 75,
   "metadata": {},
   "outputs": [
    {
     "name": "stdout",
     "output_type": "stream",
     "text": [
      "Enter 1st string: g h j k l\n",
      "Enter 2nd string: g h j\n",
      "['l', 'k']\n"
     ]
    }
   ],
   "source": [
    "def uncommon(s1,s2):\n",
    "    s3=s1.split(\" \")\n",
    "    s4=s2.split(\" \")\n",
    "    \n",
    "    print(list(set(s3)-set(s4))+list(set(s4)-set(s3)))\n",
    "    \n",
    "\n",
    "str1=input(\"Enter 1st string: \")\n",
    "str2=input(\"Enter 2nd string: \")\n",
    "uncommon(str1,str2)"
   ]
  },
  {
   "cell_type": "markdown",
   "metadata": {},
   "source": [
    "6.\tWrite a Python to find all duplicate characters in string?"
   ]
  },
  {
   "cell_type": "code",
   "execution_count": 82,
   "metadata": {},
   "outputs": [
    {
     "name": "stdout",
     "output_type": "stream",
     "text": [
      "Enter a string: hellosameer\n",
      "Duplicate characters in entered string are: \n",
      "e\n",
      "l\n"
     ]
    }
   ],
   "source": [
    "str=input(\"Enter a string: \")\n",
    "print(\"Duplicate characters in entered string are: \")\n",
    "for i in set(str):\n",
    "    if str.count(i)>=2:\n",
    "        print(i)"
   ]
  },
  {
   "cell_type": "markdown",
   "metadata": {},
   "source": [
    "7.\tWrite a Python Program to check if a string contains any special character?"
   ]
  },
  {
   "cell_type": "code",
   "execution_count": 99,
   "metadata": {},
   "outputs": [
    {
     "name": "stdout",
     "output_type": "stream",
     "text": [
      "Enter a string: ghdgddddd\n",
      "This string has no special character in it\n"
     ]
    }
   ],
   "source": [
    "sp=\"[@_!#$%^&*()<>?/\\|}{~:]\"\n",
    "str=input(\"Enter a string: \")\n",
    "for i in str:\n",
    "    if i in sp:\n",
    "        print(\"This string contains special characters\")\n",
    "        break\n",
    "else:\n",
    "    print(\"This string has no special character in it\")\n",
    "    \n",
    "        "
   ]
  },
  {
   "cell_type": "code",
   "execution_count": null,
   "metadata": {},
   "outputs": [],
   "source": []
  },
  {
   "cell_type": "code",
   "execution_count": null,
   "metadata": {},
   "outputs": [],
   "source": []
  }
 ],
 "metadata": {
  "kernelspec": {
   "display_name": "Python 3",
   "language": "python",
   "name": "python3"
  },
  "language_info": {
   "codemirror_mode": {
    "name": "ipython",
    "version": 3
   },
   "file_extension": ".py",
   "mimetype": "text/x-python",
   "name": "python",
   "nbconvert_exporter": "python",
   "pygments_lexer": "ipython3",
   "version": "3.8.5"
  }
 },
 "nbformat": 4,
 "nbformat_minor": 4
}
