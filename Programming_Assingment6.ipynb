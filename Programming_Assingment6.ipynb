{
 "cells": [
  {
   "cell_type": "markdown",
   "metadata": {},
   "source": [
    "1.\tWrite a Python Program to Display Fibonacci Sequence Using Recursion?\n",
    "\n"
   ]
  },
  {
   "cell_type": "code",
   "execution_count": 17,
   "metadata": {},
   "outputs": [
    {
     "name": "stdout",
     "output_type": "stream",
     "text": [
      "Enter number of terms for fibonacci series: 4\n",
      "Fibonacci series as follows\n",
      "0\n",
      "1\n",
      "1\n",
      "2\n"
     ]
    }
   ],
   "source": [
    "def fibo(n):\n",
    "    if n<=1:\n",
    "        return n\n",
    "    else:\n",
    "        return (fibo(n-1)+fibo(n-2))\n",
    "\n",
    "terms=int(input(\"Enter number of terms for fibonacci series: \"))\n",
    "if terms<0:\n",
    "    print(\"Can not enter neagative number\")\n",
    "else:\n",
    "    print(\"Fibonacci series as follows\")\n",
    "    for i in range(terms):\n",
    "       # print(\"Fibonacci series as follows\")\n",
    "        print(fibo(i))\n",
    "        "
   ]
  },
  {
   "cell_type": "markdown",
   "metadata": {},
   "source": [
    "2.\tWrite a Python Program to Find Factorial of Number Using Recursion?"
   ]
  },
  {
   "cell_type": "code",
   "execution_count": 24,
   "metadata": {},
   "outputs": [
    {
     "name": "stdout",
     "output_type": "stream",
     "text": [
      "Enter the number to get the factorial: 5\n",
      "Factorial of the number is: 120\n"
     ]
    }
   ],
   "source": [
    "def fact(n):\n",
    "    if n==1:\n",
    "        return 1\n",
    "    else:    \n",
    "        return(n*fact(n-1))\n",
    "\n",
    "num=int(input(\"Enter the number to get the factorial: \"))\n",
    "print(\"Factorial of the number is:\",fact(num))"
   ]
  },
  {
   "cell_type": "markdown",
   "metadata": {},
   "source": [
    "3.Write a Python Program to calculate your Body Mass Index?"
   ]
  },
  {
   "cell_type": "code",
   "execution_count": 27,
   "metadata": {},
   "outputs": [
    {
     "name": "stdout",
     "output_type": "stream",
     "text": [
      "Enter your bodu mass in KGS:55\n",
      "Enter your height in M:1.5\n",
      "Your BMI is: 24.444444444444443\n",
      "you are Healthy\n"
     ]
    }
   ],
   "source": [
    "mass=float(input(\"Enter your bodu mass in KGS:\"))\n",
    "height=float(input(\"Enter your height in M:\"))\n",
    "BMI=mass/height**2\n",
    "print(\"Your BMI is:\",BMI)\n",
    "if (BMI < 18.5):\n",
    "    print(\"you are underweight\") \n",
    "elif ( BMI >= 18.5 and BMI < 24.9):\n",
    "    print(\"you are Healthy\") \n",
    "elif ( BMI >= 24.9 and BMI < 30):\n",
    "    print(\"you are overweight\") \n",
    "elif ( BMI >=30):\n",
    "    print(\"You are suffering from Obesity\")"
   ]
  },
  {
   "cell_type": "markdown",
   "metadata": {},
   "source": [
    "4.\tWrite a Python Program to calculate the natural logarithm of any number?"
   ]
  },
  {
   "cell_type": "code",
   "execution_count": 29,
   "metadata": {},
   "outputs": [
    {
     "name": "stdout",
     "output_type": "stream",
     "text": [
      "Enter the number to find natural logarithm: 14\n",
      "Natural logarithm of 14 is : 2.6390573296152584\n"
     ]
    }
   ],
   "source": [
    "import math\n",
    "num=int(input(\"Enter the number to find natural logarithm: \"))\n",
    "\n",
    "log=math.log(14)\n",
    "print (\"Natural logarithm of {0} is : {1}\".format(num,log))"
   ]
  },
  {
   "cell_type": "markdown",
   "metadata": {},
   "source": [
    "5.\tWrite a Python Program for cube sum of first n natural numbers?"
   ]
  },
  {
   "cell_type": "code",
   "execution_count": 35,
   "metadata": {},
   "outputs": [
    {
     "name": "stdout",
     "output_type": "stream",
     "text": [
      "Enter a number to get cube sum: 3\n",
      "Result is: 36\n"
     ]
    }
   ],
   "source": [
    "def cubesum(n):\n",
    "    if n==1:\n",
    "        return 1\n",
    "    else:           \n",
    "        return(n**3+cubesum(n-1))\n",
    "num=int(input(\"Enter a number to get cube sum: \"))\n",
    "print(\"Result is:\",cubesum(num))"
   ]
  },
  {
   "cell_type": "code",
   "execution_count": null,
   "metadata": {},
   "outputs": [],
   "source": []
  }
 ],
 "metadata": {
  "kernelspec": {
   "display_name": "Python 3",
   "language": "python",
   "name": "python3"
  },
  "language_info": {
   "codemirror_mode": {
    "name": "ipython",
    "version": 3
   },
   "file_extension": ".py",
   "mimetype": "text/x-python",
   "name": "python",
   "nbconvert_exporter": "python",
   "pygments_lexer": "ipython3",
   "version": "3.8.5"
  }
 },
 "nbformat": 4,
 "nbformat_minor": 4
}
