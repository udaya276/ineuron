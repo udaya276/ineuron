{
 "cells": [
  {
   "cell_type": "code",
   "execution_count": null,
   "metadata": {},
   "outputs": [],
   "source": [
    "1.\tWrite a Python program to check if the given number is a Disarium Number?\n",
    "2.\tWrite a Python program to print all disarium numbers between 1 to 100?\n",
    "3.\tWrite a Python program to check if the given number is Happy Number?\n",
    "4.\tWrite a Python program to print all happy numbers between 1 and 100?\n",
    "5.\tWrite a Python program to determine whether the given number is a Harshad Number?\n",
    "6.\tWrite a Python program to print all pronic numbers between 1 and 100?\n"
   ]
  },
  {
   "cell_type": "markdown",
   "metadata": {},
   "source": [
    "1.\tWrite a Python program to check if the given number is a Disarium Number?"
   ]
  },
  {
   "cell_type": "code",
   "execution_count": 25,
   "metadata": {},
   "outputs": [
    {
     "name": "stdout",
     "output_type": "stream",
     "text": [
      "Enter a number: 135\n",
      "Enter number is Disarioum\n"
     ]
    }
   ],
   "source": [
    "num=input(\"Enter a number: \")\n",
    "sum=0\n",
    "for i in range(len(num)):\n",
    "    sum=sum+(int(num[i]))**(i+1)\n",
    "if sum==int(num):\n",
    "    print(\"Enter number is Disarioum\")\n",
    "else:\n",
    "    print(\"Enter number is not Disarioum\")"
   ]
  },
  {
   "cell_type": "markdown",
   "metadata": {},
   "source": [
    "2.\tWrite a Python program to print all disarium numbers between 1 to 100?"
   ]
  },
  {
   "cell_type": "code",
   "execution_count": 46,
   "metadata": {},
   "outputs": [
    {
     "name": "stdout",
     "output_type": "stream",
     "text": [
      "1\n",
      "2\n",
      "3\n",
      "4\n",
      "5\n",
      "6\n",
      "7\n",
      "8\n",
      "9\n",
      "89\n"
     ]
    }
   ],
   "source": [
    "for num in range(1,101):\n",
    "    sum=0\n",
    "    for i in range(len(str(num))):\n",
    "        sum=sum+(int(str(num)[i]))**(i+1)\n",
    "    if sum == int(num):\n",
    "        print(num)"
   ]
  },
  {
   "cell_type": "markdown",
   "metadata": {},
   "source": [
    "3.\tWrite a Python program to check if the given number is Happy Number?"
   ]
  },
  {
   "cell_type": "code",
   "execution_count": 14,
   "metadata": {},
   "outputs": [
    {
     "name": "stdout",
     "output_type": "stream",
     "text": [
      "Enter a number: 35\n",
      "this is not a happy number\n"
     ]
    }
   ],
   "source": [
    "def happy(num):\n",
    "    sum=0\n",
    "    #digit=0\n",
    "    for i in range(len(str(num))):\n",
    "        digit=num%10\n",
    "        num=num//10\n",
    "        sum=sum+digit**2\n",
    "    return sum\n",
    "\n",
    "n=int(input(\"Enter a number: \"))\n",
    "nd=n\n",
    "\n",
    "while(nd!=1 and nd!=4):\n",
    "    nd=happy(nd)\n",
    "if nd==1:\n",
    "    print(\"this  number is a happy number\")\n",
    "elif nd==4:\n",
    "    print(\"this is not a happy number\")"
   ]
  },
  {
   "cell_type": "markdown",
   "metadata": {},
   "source": [
    "4.\tWrite a Python program to print all happy numbers between 1 and 100?"
   ]
  },
  {
   "cell_type": "code",
   "execution_count": 26,
   "metadata": {},
   "outputs": [
    {
     "name": "stdout",
     "output_type": "stream",
     "text": [
      "Happy numbers between 1 to 100 are: \n",
      "1\n",
      "7\n",
      "10\n",
      "13\n",
      "19\n",
      "23\n",
      "28\n",
      "31\n",
      "32\n",
      "44\n",
      "49\n",
      "68\n",
      "70\n",
      "79\n",
      "82\n",
      "86\n",
      "91\n",
      "94\n",
      "97\n",
      "100\n"
     ]
    }
   ],
   "source": [
    "def happy(num):\n",
    "    sum=0\n",
    "    #digit=0\n",
    "    for i in range(len(str(num))):\n",
    "        digit=num%10\n",
    "        num=num//10\n",
    "        sum=sum+digit**2\n",
    "    return sum\n",
    "print(\"Happy numbers between 1 to 100 are: \")\n",
    "for i in range(1,101):\n",
    "    nd=i\n",
    "    \n",
    "    while(nd!=1 and nd!=4):\n",
    "        nd=happy(nd)\n",
    " \n",
    "    if nd==1:\n",
    "        print(i)\n",
    " "
   ]
  },
  {
   "cell_type": "markdown",
   "metadata": {},
   "source": [
    "5.\tWrite a Python program to determine whether the given number is a Harshad Number?"
   ]
  },
  {
   "cell_type": "code",
   "execution_count": 36,
   "metadata": {},
   "outputs": [
    {
     "name": "stdout",
     "output_type": "stream",
     "text": [
      "Enter a number: 18\n",
      "18 is a Harshad number\n"
     ]
    }
   ],
   "source": [
    "n=int(input(\"Enter a number: \"))\n",
    "num=n\n",
    "sum=0\n",
    "for i in range(len(str(num))):   \n",
    "    digit=num%10\n",
    "    num=num//10\n",
    "    sum=sum+digit\n",
    "    \n",
    "if n%sum==0:\n",
    "    print(\"{0} is a Harshad number\".format(n))\n",
    "else:\n",
    "    print(\"{0} is not a Harshad number\".format(n))"
   ]
  },
  {
   "cell_type": "markdown",
   "metadata": {},
   "source": [
    "6.\tWrite a Python program to print all pronic numbers between 1 and 100?"
   ]
  },
  {
   "cell_type": "code",
   "execution_count": 55,
   "metadata": {},
   "outputs": [
    {
     "name": "stdout",
     "output_type": "stream",
     "text": [
      "Pronic numbers between 1 and 100 are\n",
      "0\n",
      "2\n",
      "6\n",
      "12\n",
      "20\n",
      "30\n",
      "42\n",
      "56\n",
      "72\n",
      "90\n"
     ]
    }
   ],
   "source": [
    "import math\n",
    "print(\"Pronic numbers between 1 and 100 are\")\n",
    "for j in range(0,101):\n",
    "    if j==0:\n",
    "        print(j)\n",
    "    else:\n",
    "        for i in range(int(math.sqrt(j)+1)):\n",
    "            if (j==i*(i+1)):\n",
    "                print(j)\n",
    "        "
   ]
  },
  {
   "cell_type": "code",
   "execution_count": null,
   "metadata": {},
   "outputs": [],
   "source": []
  }
 ],
 "metadata": {
  "kernelspec": {
   "display_name": "Python 3",
   "language": "python",
   "name": "python3"
  },
  "language_info": {
   "codemirror_mode": {
    "name": "ipython",
    "version": 3
   },
   "file_extension": ".py",
   "mimetype": "text/x-python",
   "name": "python",
   "nbconvert_exporter": "python",
   "pygments_lexer": "ipython3",
   "version": "3.8.5"
  }
 },
 "nbformat": 4,
 "nbformat_minor": 4
}
