{
 "cells": [
  {
   "cell_type": "markdown",
   "metadata": {},
   "source": [
    "1.\tWrite a Python Program to Add Two Matrices?"
   ]
  },
  {
   "cell_type": "code",
   "execution_count": 11,
   "metadata": {},
   "outputs": [
    {
     "name": "stdout",
     "output_type": "stream",
     "text": [
      "[10, 10, 10]\n",
      "[10, 10, 10]\n",
      "[10, 10, 10]\n"
     ]
    }
   ],
   "source": [
    "x=[[1,2,3],\n",
    "   [4,5,6],\n",
    "   [7,8,9]]\n",
    "y=[[9,8,7],\n",
    "   [6,5,4],\n",
    "   [3,2,1]]\n",
    "\n",
    "z=[[0,0,0],\n",
    "   [0,0,0],\n",
    "   [0,0,0]]\n",
    "for i in range(len(x)):\n",
    "    for j in range(len(x[0])):\n",
    "        z[i][j]=x[i][j]+y[i][j]\n",
    "\n",
    "for k in z:\n",
    "    print(k)\n"
   ]
  },
  {
   "cell_type": "markdown",
   "metadata": {},
   "source": [
    "2.\tWrite a Python Program to Multiply Two Matrices?"
   ]
  },
  {
   "cell_type": "code",
   "execution_count": 12,
   "metadata": {},
   "outputs": [
    {
     "name": "stdout",
     "output_type": "stream",
     "text": [
      "[9, 16, 21]\n",
      "[24, 25, 24]\n",
      "[21, 16, 9]\n"
     ]
    }
   ],
   "source": [
    "x=[[1,2,3],\n",
    "   [4,5,6],\n",
    "   [7,8,9]]\n",
    "y=[[9,8,7],\n",
    "   [6,5,4],\n",
    "   [3,2,1]]\n",
    "\n",
    "z=[[0,0,0],\n",
    "   [0,0,0],\n",
    "   [0,0,0]]\n",
    "for i in range(len(x)):\n",
    "    for j in range(len(x[0])):\n",
    "        z[i][j]=x[i][j]*y[i][j]\n",
    "for k in z:\n",
    "    print(k)"
   ]
  },
  {
   "cell_type": "markdown",
   "metadata": {},
   "source": [
    "3.\tWrite a Python Program to Transpose a Matrix?"
   ]
  },
  {
   "cell_type": "code",
   "execution_count": 15,
   "metadata": {},
   "outputs": [
    {
     "name": "stdout",
     "output_type": "stream",
     "text": [
      "[1, 4, 7]\n",
      "[2, 5, 8]\n",
      "[3, 6, 9]\n"
     ]
    }
   ],
   "source": [
    "x=[[1,2,3],\n",
    "   [4,5,6],\n",
    "   [7,8,9]]\n",
    "z=[[0,0,0],\n",
    "   [0,0,0],\n",
    "   [0,0,0]]\n",
    "for i in range(len(x)):\n",
    "    for j in range(len(x[0])):\n",
    "        z[i][j]=x[j][i]\n",
    "for j in z:\n",
    "    print(j)"
   ]
  },
  {
   "cell_type": "markdown",
   "metadata": {},
   "source": [
    "4.\tWrite a Python Program to Sort Words in Alphabetic Order?"
   ]
  },
  {
   "cell_type": "code",
   "execution_count": 17,
   "metadata": {},
   "outputs": [
    {
     "name": "stdout",
     "output_type": "stream",
     "text": [
      "Enter a sentence: sdjj fdkfdkfk dkk AKKAK HH\n",
      "['akkak', 'dkk', 'fdkfdkfk', 'hh', 'sdjj']\n"
     ]
    }
   ],
   "source": [
    "sent=input(\"Enter a sentence: \")\n",
    "\n",
    "words=sent.split()\n",
    "wordlist=[]\n",
    "for i in words:\n",
    "    j=i.lower()\n",
    "    wordlist.append(j)\n",
    "\n",
    "wordlist.sort()\n",
    "print(wordlist)"
   ]
  },
  {
   "cell_type": "markdown",
   "metadata": {},
   "source": [
    "5.\tWrite a Python Program to Remove Punctuation From a String?"
   ]
  },
  {
   "cell_type": "code",
   "execution_count": 5,
   "metadata": {},
   "outputs": [
    {
     "name": "stdout",
     "output_type": "stream",
     "text": [
      "Enter a sentence to remove punct marks: dfafd!#!daff\n",
      "dfafddaff\n"
     ]
    }
   ],
   "source": [
    "punct=\"\"\"()-[]{};:'\"\\,<>./?@#$%^&*_~!\"\"\"\n",
    "sent=input(\"Enter a sentence to remove punct marks: \")\n",
    "newsent=\"\"\n",
    "for i in sent:\n",
    "    if i not in punct:\n",
    "        newsent=newsent+i\n",
    "print(newsent)       "
   ]
  },
  {
   "cell_type": "code",
   "execution_count": null,
   "metadata": {},
   "outputs": [],
   "source": []
  }
 ],
 "metadata": {
  "kernelspec": {
   "display_name": "Python 3",
   "language": "python",
   "name": "python3"
  },
  "language_info": {
   "codemirror_mode": {
    "name": "ipython",
    "version": 3
   },
   "file_extension": ".py",
   "mimetype": "text/x-python",
   "name": "python",
   "nbconvert_exporter": "python",
   "pygments_lexer": "ipython3",
   "version": "3.8.5"
  }
 },
 "nbformat": 4,
 "nbformat_minor": 4
}
