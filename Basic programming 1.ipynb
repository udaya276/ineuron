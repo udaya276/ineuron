{
 "cells": [
  {
   "cell_type": "markdown",
   "metadata": {},
   "source": [
    "1.\tWrite a Python program to print \"Hello Python\"?"
   ]
  },
  {
   "cell_type": "code",
   "execution_count": 1,
   "metadata": {},
   "outputs": [
    {
     "name": "stdout",
     "output_type": "stream",
     "text": [
      "Hello python\n"
     ]
    }
   ],
   "source": [
    "print(\"Hello python\")"
   ]
  },
  {
   "cell_type": "markdown",
   "metadata": {},
   "source": [
    "2.\tWrite a Python program to do arithmetical operations addition and division.?"
   ]
  },
  {
   "cell_type": "code",
   "execution_count": 3,
   "metadata": {},
   "outputs": [
    {
     "name": "stdout",
     "output_type": "stream",
     "text": [
      "enter 1st no2\n",
      "enter 2nd no3\n",
      "addition of two number is 5.0\n",
      "division of two number is 0.6666666666666666\n"
     ]
    }
   ],
   "source": [
    "num1=input('enter 1st no')\n",
    "num2=input('enter 2nd no')\n",
    "print(\"addition of two number is\",float(num1)+float(num2))\n",
    "print(\"division of two number is\",float(num1)/float(num2))"
   ]
  },
  {
   "cell_type": "markdown",
   "metadata": {},
   "source": [
    "3.\tWrite a Python program to find the area of a triangle?"
   ]
  },
  {
   "cell_type": "code",
   "execution_count": 8,
   "metadata": {},
   "outputs": [
    {
     "name": "stdout",
     "output_type": "stream",
     "text": [
      "enter length of 1st side2\n",
      "enter length of 2nd side4\n",
      "enter length of 3rd side5\n",
      "area of triangle is= 3.799671038392666 sq unit\n"
     ]
    }
   ],
   "source": [
    "s1=float(input('enter length of 1st side'))\n",
    "s2=float(input('enter length of 2nd side'))\n",
    "s3=float(input('enter length of 3rd side'))\n",
    "s=(s1+s2+s3)*0.5\n",
    "area=(s*(s-s1)*(s-s2)*(s-s3))**0.5\n",
    "print('area of triangle is=',area,'sq unit')"
   ]
  },
  {
   "cell_type": "markdown",
   "metadata": {},
   "source": [
    "4.\tWrite a Python program to swap two variables?"
   ]
  },
  {
   "cell_type": "code",
   "execution_count": 13,
   "metadata": {},
   "outputs": [
    {
     "name": "stdout",
     "output_type": "stream",
     "text": [
      "enter value of x:3\n",
      "enter value of y:4\n",
      "The value of x after swapping: 4\n",
      "The value of y after swapping: 3\n"
     ]
    }
   ],
   "source": [
    "x=input('enter value of x:')\n",
    "y=input('enter value of y:')\n",
    "temp=y\n",
    "y=x\n",
    "x=temp\n",
    "print('The value of x after swapping: {}'.format(x))  \n",
    "print('The value of y after swapping: {}'.format(y))\n"
   ]
  },
  {
   "cell_type": "markdown",
   "metadata": {},
   "source": [
    "5.\tWrite a Python program to generate a random number?"
   ]
  },
  {
   "cell_type": "code",
   "execution_count": 19,
   "metadata": {},
   "outputs": [
    {
     "name": "stdout",
     "output_type": "stream",
     "text": [
      "356\n"
     ]
    }
   ],
   "source": [
    "import random\n",
    "print(random.randint(0,1000))"
   ]
  }
 ],
 "metadata": {
  "kernelspec": {
   "display_name": "Python 3",
   "language": "python",
   "name": "python3"
  },
  "language_info": {
   "codemirror_mode": {
    "name": "ipython",
    "version": 3
   },
   "file_extension": ".py",
   "mimetype": "text/x-python",
   "name": "python",
   "nbconvert_exporter": "python",
   "pygments_lexer": "ipython3",
   "version": "3.8.5"
  }
 },
 "nbformat": 4,
 "nbformat_minor": 4
}
